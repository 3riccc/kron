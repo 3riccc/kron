{
 "cells": [
  {
   "cell_type": "code",
   "execution_count": 2,
   "metadata": {},
   "outputs": [],
   "source": [
    "import torch\n",
    "import torch.nn as nn\n",
    "from torch.utils.data import DataLoader\n",
    "from torch.nn import Parameter\n",
    "import torch.optim as optim\n",
    "import torch.nn.functional as F\n",
    "\n",
    "import pickle\n",
    "import numpy as np\n",
    "import math # to check nan\n",
    "from tqdm import tqdm\n",
    "from sklearn import metrics"
   ]
  },
  {
   "cell_type": "code",
   "execution_count": 56,
   "metadata": {},
   "outputs": [],
   "source": [
    "HYP={\n",
    "    'node_num':128,\n",
    "    'miss_percent':0.1,\n",
    "    'seed':2050,\n",
    "    'batch_size':1024,\n",
    "    'lr_net':0.003,\n",
    "    'lr_dyn':0.001\n",
    "}"
   ]
  },
  {
   "cell_type": "code",
   "execution_count": 57,
   "metadata": {},
   "outputs": [],
   "source": [
    "del_num = int(HYP['node_num']*HYP['miss_percent'])"
   ]
  },
  {
   "cell_type": "code",
   "execution_count": 58,
   "metadata": {},
   "outputs": [
    {
     "data": {
      "text/plain": [
       "<torch._C.Generator at 0x274b3b6cdc8>"
      ]
     },
     "execution_count": 58,
     "metadata": {},
     "output_type": "execute_result"
    }
   ],
   "source": [
    "torch.manual_seed(HYP['seed'])"
   ]
  },
  {
   "cell_type": "markdown",
   "metadata": {},
   "source": [
    "## dynamics learner"
   ]
  },
  {
   "cell_type": "code",
   "execution_count": 59,
   "metadata": {},
   "outputs": [],
   "source": [
    "## here is a dynamics learner, and ites optimizer\n",
    "class IO_B(nn.Module):\n",
    "    \"\"\"docstring for IO_B\"\"\"\n",
    "    def __init__(self,dim,hid):\n",
    "        super(IO_B, self).__init__()\n",
    "        self.dim = dim\n",
    "        self.hid = hid\n",
    "        self.n2e = nn.Linear(2*dim,hid)\n",
    "        self.e2e = nn.Linear(hid,hid)\n",
    "        self.e2n = nn.Linear(hid,hid)\n",
    "        self.n2n = nn.Linear(hid,hid)\n",
    "        self.output = nn.Linear(dim+hid,dim)\n",
    "    def forward(self, x, adj_col, i):\n",
    "        # x : features of all nodes at time t,[b*n*d]\n",
    "        # adj_col : i th column of adj mat,[n]\n",
    "        # i : just i\n",
    "        starter = x # [batch,node,dim]\n",
    "        ender = x[:,i,:] # [batch,dim]\n",
    "        ender = ender.unsqueeze(1) #[batch,1,dim]\n",
    "\n",
    "        ender = ender.expand(starter.size(0),starter.size(1),starter.size(2)) #[batch,node,dim]\n",
    "        x = torch.cat((starter,ender),2) #[batch,node,2dim]\n",
    "        x = F.relu(self.n2e(x))#[batch,node,hid]\n",
    "\n",
    "        x = F.relu(self.e2e(x))#[batch,node,hid]\n",
    "        adj_col = adj_col.unsqueeze(1)#[node,1]\n",
    "        adj_col = adj_col.unsqueeze(0).repeat(x.shape[0],1,x.shape[2]) #[batch,node,hid]\n",
    "        \n",
    "        x = x * adj_col#[batch,node,hid]\n",
    "\n",
    "        x = torch.sum(x,1)#[batch,hid]\n",
    "        x = F.relu(self.e2n(x))#[batch,hid]\n",
    "        x = F.relu(self.n2n(x))#[batch,hid]\n",
    "\n",
    "        x = torch.cat((starter[:,i,:],x),dim=-1)#[batch,hid+dim]\n",
    "        x = self.output(x)#[batch,dim]\n",
    "\n",
    "        # skip connection\n",
    "        # x = starter[:,i,:]+x # dont want in CML\n",
    "        return x"
   ]
  },
  {
   "cell_type": "code",
   "execution_count": 60,
   "metadata": {},
   "outputs": [],
   "source": [
    "dyn = IO_B(1,16)\n",
    "op_dyn = optim.Adam(dyn.parameters(), lr=HYP['lr_dyn'])"
   ]
  },
  {
   "cell_type": "markdown",
   "metadata": {},
   "source": [
    "## kron network generator"
   ]
  },
  {
   "cell_type": "code",
   "execution_count": 61,
   "metadata": {},
   "outputs": [],
   "source": [
    "# kronecker product for 2 matrix\n",
    "def kronecker(A,B):\n",
    "    return torch.einsum(\"ab,cd->acbd\", A, B).view(A.size(0)*B.size(0),  A.size(1)*B.size(1))\n",
    "\n",
    "## network generator, and ites optimizer\n",
    "class Gumbel_union_kron(nn.Module):\n",
    "    def __init__(self,sz,k):\n",
    "        super(Gumbel_union_kron,self).__init__()\n",
    "        self.p = Parameter(torch.Tensor(sz,sz).uniform_(0,1))\n",
    "#         self.p = Parameter(torch.tensor([[0.9902,0.3957],[0.4112,0.0761]]))\n",
    "        self.k = k\n",
    "    \n",
    "    # generate adj from original kernel\n",
    "    def generate_adj(self):\n",
    "        p0 = torch.relu(self.p) - torch.relu(self.p-0.99)\n",
    "        adj = torch.relu(self.p) - torch.relu(self.p-0.99)\n",
    "        for i in range(self.k-1):\n",
    "            adj = kronecker(adj,p0)\n",
    "        return adj\n",
    "    def sample_all(self):\n",
    "        p1 = self.generate_adj() # prob to get 1\n",
    "        p0 = 1-p1 # prob to get 0\n",
    "        logits = torch.cat([p0.unsqueeze(2),p1.unsqueeze(2)],dim=2)#[node,node,2]\n",
    "        # log it to suit for gumbel softmax\n",
    "        logits = torch.log(logits)#[node,node,2]\n",
    "        # gumbel softmax\n",
    "        sampled_adj = torch.nn.functional.gumbel_softmax(logits,hard=False,tau=1)[:,:,1]\n",
    "        return sampled_adj"
   ]
  },
  {
   "cell_type": "code",
   "execution_count": 31,
   "metadata": {},
   "outputs": [],
   "source": [
    "# normal network generator\n",
    "class Gumbel_Generator(nn.Module):\n",
    "    def __init__(self,sz):\n",
    "        super(Gumbel_Generator,self).__init__()\n",
    "        self.p = Parameter(torch.randn(sz,sz,2))\n",
    "    def generate_adj(self):\n",
    "        p0 = torch.nn.functional.softmax(self.p,dim=2)[:,:,1]\n",
    "        symp0 = torch.triu(p0,diagonal=0)+torch.triu(p0,diagonal=1).transpose(0,1) # make it symmetric\n",
    "        return symp0\n",
    "        \n",
    "    def sample_all(self):\n",
    "        sampled_adj = torch.nn.functional.gumbel_softmax(self.p,hard=False,tau=1)[:,:,1]\n",
    "        sym_adj = torch.triu(sampled_adj,diagonal=0)+torch.triu(sampled_adj,diagonal=1).transpose(0,1)# make it symmetric\n",
    "        return sym_adj"
   ]
  },
  {
   "cell_type": "code",
   "execution_count": 118,
   "metadata": {},
   "outputs": [],
   "source": [
    "# generator = Gumbel_union_kron(2,7)\n",
    "generator = Gumbel_Generator(128)\n",
    "op_net = optim.Adam(generator.parameters(), lr=HYP['lr_net'])"
   ]
  },
  {
   "cell_type": "code",
   "execution_count": 64,
   "metadata": {},
   "outputs": [
    {
     "data": {
      "text/plain": [
       "tensor([[0.8057, 0.4989, 0.5745,  ..., 0.3698, 0.2699, 0.7220],\n",
       "        [0.7335, 0.1060, 0.3742,  ..., 0.7150, 0.4804, 0.7891],\n",
       "        [0.8338, 0.5517, 0.5949,  ..., 0.8904, 0.4488, 0.2111],\n",
       "        ...,\n",
       "        [0.2392, 0.5070, 0.1855,  ..., 0.5749, 0.8424, 0.3252],\n",
       "        [0.6778, 0.1144, 0.0685,  ..., 0.0741, 0.5672, 0.4211],\n",
       "        [0.5581, 0.9420, 0.8834,  ..., 0.2661, 0.4170, 0.3464]],\n",
       "       grad_fn=<SelectBackward>)"
      ]
     },
     "execution_count": 64,
     "metadata": {},
     "output_type": "execute_result"
    }
   ],
   "source": [
    "generator.generate_adj()"
   ]
  },
  {
   "cell_type": "markdown",
   "metadata": {},
   "source": [
    "## load data"
   ]
  },
  {
   "cell_type": "code",
   "execution_count": 65,
   "metadata": {},
   "outputs": [],
   "source": [
    "def load_cml_ggn(data_path,batch_size = 128,node=10,seed=2050):\n",
    "\n",
    "    with open(data_path, 'rb') as f:\n",
    "        object_matrix, train_data, val_data, test_data = pickle.load(f) # (samples, nodes, timesteps, 1)\n",
    "    \n",
    "    print('\\nMatrix dimension: %s \\nTrain data size: %s \\nVal data size: %s \\nTest data size: %s'\n",
    "          % (object_matrix.shape, train_data.shape, val_data.shape, test_data.shape))    \n",
    "\n",
    "    train_loader = DataLoader(train_data[:], batch_size=batch_size, shuffle=False)#\n",
    "    val_loader = DataLoader(val_data[:], batch_size=batch_size, shuffle=False) # 记得改回来\n",
    "    test_loader = DataLoader(test_data[:], batch_size=batch_size, shuffle=False) # 记得改回来\n",
    "    return train_loader,val_loader,test_loader,object_matrix"
   ]
  },
  {
   "cell_type": "code",
   "execution_count": 66,
   "metadata": {
    "scrolled": false
   },
   "outputs": [
    {
     "name": "stdout",
     "output_type": "stream",
     "text": [
      "\n",
      "Matrix dimension: torch.Size([128, 128]) \n",
      "Train data size: torch.Size([2500, 128, 2, 1]) \n",
      "Val data size: torch.Size([500, 128, 2, 1]) \n",
      "Test data size: torch.Size([500, 128, 2, 1])\n"
     ]
    }
   ],
   "source": [
    "# load data\n",
    "data_path = './data/2000cmlkron128-2500.pickle'\n",
    "# a = torch.load(data_path,map_location=torch.device('cpu'))\n",
    "train_loader, val_loader, test_loader, object_matrix = load_cml_ggn(data_path,batch_size=HYP['batch_size'],node=HYP['node_num'])"
   ]
  },
  {
   "cell_type": "code",
   "execution_count": 67,
   "metadata": {},
   "outputs": [],
   "source": [
    "observed_adj = object_matrix[:-del_num,:-del_num]"
   ]
  },
  {
   "cell_type": "code",
   "execution_count": 68,
   "metadata": {},
   "outputs": [],
   "source": [
    "un_edges = object_matrix[-del_num:,-del_num:].sum()"
   ]
  },
  {
   "cell_type": "markdown",
   "metadata": {},
   "source": [
    "## unknown x generator"
   ]
  },
  {
   "cell_type": "code",
   "execution_count": 69,
   "metadata": {},
   "outputs": [],
   "source": [
    "## generate initial state for unobserved nodes\n",
    "class Unknown_X_Generator(nn.Module):\n",
    "    def __init__(self,batch_num,batch_sz,unobserved_node):\n",
    "        super(Unknown_X_Generator,self).__init__()\n",
    "        self.para = Parameter(torch.Tensor(batch_num,batch_sz,unobserved_node).uniform_(0,1))\n",
    "    \n",
    "    # get x\n",
    "    def get_x(self,batch_idx):\n",
    "        return self.para[batch_idx,:,:].unsqueeze(2) #[batchsz,unobserved_node,1]"
   ]
  },
  {
   "cell_type": "code",
   "execution_count": 70,
   "metadata": {},
   "outputs": [],
   "source": [
    "train_uxg = Unknown_X_Generator(len(train_loader),HYP['batch_size'],del_num)\n",
    "op_uxg = optim.Adam(train_uxg.parameters(), lr=HYP['lr_net'])"
   ]
  },
  {
   "cell_type": "markdown",
   "metadata": {},
   "source": [
    "## loss function"
   ]
  },
  {
   "cell_type": "code",
   "execution_count": 71,
   "metadata": {},
   "outputs": [],
   "source": [
    "loss_f = nn.MSELoss()"
   ]
  },
  {
   "cell_type": "markdown",
   "metadata": {},
   "source": [
    "## train by observed part"
   ]
  },
  {
   "cell_type": "code",
   "execution_count": 16,
   "metadata": {},
   "outputs": [],
   "source": [
    "# train by observed structure\n",
    "def train_stru():\n",
    "    op_net.zero_grad()\n",
    "    hypo_adj = generator.sample_all()\n",
    "    o_part = hypo_adj[:-del_num,:-del_num]\n",
    "#     loss = torch.mean(torch.abs(o_part-observed_adj))\n",
    "    loss = loss_f(o_part,observed_adj)\n",
    "    loss.backward()\n",
    "    op_net.step()"
   ]
  },
  {
   "cell_type": "markdown",
   "metadata": {},
   "source": [
    "## get auc of unknown part"
   ]
  },
  {
   "cell_type": "code",
   "execution_count": 72,
   "metadata": {},
   "outputs": [],
   "source": [
    "def auc_unknown(p0,object_matrix,del_num):\n",
    "    yscore = []\n",
    "    y = []\n",
    "    for i in range(p0.shape[0]):\n",
    "        if i < p0.shape[0]-del_num:\n",
    "            yscore.extend(p0[i,-del_num:])\n",
    "            y.extend(object_matrix[i,-del_num:])\n",
    "        else:\n",
    "            yscore.extend(p0[i])\n",
    "            y.extend(object_matrix[i])\n",
    "    yscore = np.array(yscore)\n",
    "    y_true = np.array(y)\n",
    "    \n",
    "    fpr, tpr, thresholds = metrics.roc_curve(y_true, yscore,drop_intermediate=False)\n",
    "    area = metrics.auc(fpr, tpr)\n",
    "    return area"
   ]
  },
  {
   "cell_type": "markdown",
   "metadata": {},
   "source": [
    "## train by structure"
   ]
  },
  {
   "cell_type": "code",
   "execution_count": 18,
   "metadata": {},
   "outputs": [
    {
     "name": "stderr",
     "output_type": "stream",
     "text": [
      "100%|██████████████████████████████████████████████████| 2000/2000 [01:02<00:00, 32.05it/s]\n"
     ]
    }
   ],
   "source": [
    "areas = []\n",
    "for i in tqdm(range(2000)):\n",
    "    train_stru()\n",
    "    p0 = generator.generate_adj().detach().numpy()\n",
    "    area = auc_unknown(p0,object_matrix,del_num)\n",
    "    areas.append(area)"
   ]
  },
  {
   "cell_type": "code",
   "execution_count": 19,
   "metadata": {},
   "outputs": [],
   "source": [
    "import matplotlib.pyplot as plt"
   ]
  },
  {
   "cell_type": "code",
   "execution_count": 20,
   "metadata": {
    "scrolled": true
   },
   "outputs": [
    {
     "data": {
      "image/png": "[encoded data removed]",
      "text/plain": [
       "<Figure size 432x288 with 1 Axes>"
      ]
     },
     "metadata": {
      "needs_background": "light"
     },
     "output_type": "display_data"
    }
   ],
   "source": [
    "plt.plot(areas)\n",
    "plt.show()"
   ]
  },
  {
   "cell_type": "code",
   "execution_count": 21,
   "metadata": {},
   "outputs": [
    {
     "data": {
      "text/plain": [
       "Parameter containing:\n",
       "tensor([[0.9910, 0.4047],\n",
       "        [0.3837, 0.0770]], requires_grad=True)"
      ]
     },
     "execution_count": 21,
     "metadata": {},
     "output_type": "execute_result"
    }
   ],
   "source": [
    "generator.p"
   ]
  },
  {
   "cell_type": "code",
   "execution_count": 22,
   "metadata": {},
   "outputs": [
    {
     "ename": "NameError",
     "evalue": "name 'd' is not defined",
     "output_type": "error",
     "traceback": [
      "\u001b[1;31m---------------------------------------------------------------------------\u001b[0m",
      "\u001b[1;31mNameError\u001b[0m                                 Traceback (most recent call last)",
      "\u001b[1;32m<ipython-input-22-3e131367d150>\u001b[0m in \u001b[0;36m<module>\u001b[1;34m\u001b[0m\n\u001b[1;32m----> 1\u001b[1;33m \u001b[0md\u001b[0m\u001b[1;33m(\u001b[0m\u001b[1;33m)\u001b[0m\u001b[1;33m\u001b[0m\u001b[1;33m\u001b[0m\u001b[0m\n\u001b[0m",
      "\u001b[1;31mNameError\u001b[0m: name 'd' is not defined"
     ]
    }
   ],
   "source": [
    "d()"
   ]
  },
  {
   "cell_type": "code",
   "execution_count": 119,
   "metadata": {},
   "outputs": [],
   "source": [
    "def train_dyn_gen():\n",
    "    losses = []\n",
    "    for b_idx,data in enumerate(train_loader):\n",
    "        # data:[batch,node,2,1]\n",
    "        x = data[:,:-del_num,0,:] # [batchsz,observed_node,1]\n",
    "        y = data[:,:-del_num,1,:] # same size\n",
    "        \n",
    "        # pred state for each node which can be observed\n",
    "        for j in range(HYP['node_num']-del_num):\n",
    "            print(generator.p[10,0,:])\n",
    "            op_net.zero_grad()\n",
    "            op_uxg.zero_grad()\n",
    "            op_dyn.zero_grad()\n",
    "            \n",
    "            \n",
    "            thisbatchsz = x.shape[0]\n",
    "            x_un_paed = train_uxg.get_x(b_idx)[:thisbatchsz] #[batchsz,unobserved_node,1]\n",
    "            x_hypo = torch.cat([x,x_un_paed],dim=1) #[batchsz,node,1]\n",
    "            \n",
    "            hypo_adj = generator.sample_all()\n",
    "            \n",
    "            # replace the observed part\n",
    "            t0 = torch.ones(hypo_adj.shape)\n",
    "            t0[:-del_num,:-del_num] = 0\n",
    "            t1 = torch.zeros(hypo_adj.shape)\n",
    "            t1[:-del_num,:-del_num] = observed_adj\n",
    "            hypo_adj = hypo_adj*t0+t1\n",
    "            \n",
    "            adj_col = hypo_adj[:,j]\n",
    "            \n",
    "            yhat = dyn(x_hypo,adj_col,j)\n",
    "            loss = loss_f(yhat,y[:,j,:])\n",
    "            loss.backward()\n",
    "            \n",
    "            \n",
    "            print(generator.p.grad[10,0,:])\n",
    "            \n",
    "            \n",
    "            op_net.step()\n",
    "            op_dyn.step()\n",
    "            op_uxg.step()\n",
    "            print(generator.p[10,0,:])\n",
    "            d()\n",
    "            losses.append(loss.item())\n",
    "    return np.mean(losses)"
   ]
  },
  {
   "cell_type": "code",
   "execution_count": 120,
   "metadata": {},
   "outputs": [
    {
     "name": "stderr",
     "output_type": "stream",
     "text": [
      "  0%|                                                               | 0/10 [00:00<?, ?it/s]"
     ]
    },
    {
     "name": "stdout",
     "output_type": "stream",
     "text": [
      "tensor([0.2730, 0.1671], grad_fn=<SliceBackward>)\n",
      "tensor([0., -0.])\n",
      "tensor([0.2730, 0.1671], grad_fn=<SliceBackward>)\n"
     ]
    },
    {
     "name": "stderr",
     "output_type": "stream",
     "text": [
      "\n"
     ]
    },
    {
     "ename": "NameError",
     "evalue": "name 'd' is not defined",
     "output_type": "error",
     "traceback": [
      "\u001b[1;31m---------------------------------------------------------------------------\u001b[0m",
      "\u001b[1;31mNameError\u001b[0m                                 Traceback (most recent call last)",
      "\u001b[1;32m<ipython-input-120-db999ed2516d>\u001b[0m in \u001b[0;36m<module>\u001b[1;34m\u001b[0m\n\u001b[0;32m      2\u001b[0m \u001b[0mlosses\u001b[0m \u001b[1;33m=\u001b[0m \u001b[1;33m[\u001b[0m\u001b[1;33m]\u001b[0m\u001b[1;33m\u001b[0m\u001b[1;33m\u001b[0m\u001b[0m\n\u001b[0;32m      3\u001b[0m \u001b[1;32mfor\u001b[0m \u001b[0mi\u001b[0m \u001b[1;32min\u001b[0m \u001b[0mtqdm\u001b[0m\u001b[1;33m(\u001b[0m\u001b[0mrange\u001b[0m\u001b[1;33m(\u001b[0m\u001b[1;36m10\u001b[0m\u001b[1;33m)\u001b[0m\u001b[1;33m)\u001b[0m\u001b[1;33m:\u001b[0m\u001b[1;33m\u001b[0m\u001b[1;33m\u001b[0m\u001b[0m\n\u001b[1;32m----> 4\u001b[1;33m     \u001b[0mloss\u001b[0m \u001b[1;33m=\u001b[0m \u001b[0mtrain_dyn_gen\u001b[0m\u001b[1;33m(\u001b[0m\u001b[1;33m)\u001b[0m\u001b[1;33m\u001b[0m\u001b[1;33m\u001b[0m\u001b[0m\n\u001b[0m\u001b[0;32m      5\u001b[0m     \u001b[0mlosses\u001b[0m\u001b[1;33m.\u001b[0m\u001b[0mappend\u001b[0m\u001b[1;33m(\u001b[0m\u001b[0mloss\u001b[0m\u001b[1;33m)\u001b[0m\u001b[1;33m\u001b[0m\u001b[1;33m\u001b[0m\u001b[0m\n\u001b[0;32m      6\u001b[0m     \u001b[1;31m# check auc\u001b[0m\u001b[1;33m\u001b[0m\u001b[1;33m\u001b[0m\u001b[1;33m\u001b[0m\u001b[0m\n",
      "\u001b[1;32m<ipython-input-119-4167ecc02d7e>\u001b[0m in \u001b[0;36mtrain_dyn_gen\u001b[1;34m()\u001b[0m\n\u001b[0;32m     41\u001b[0m             \u001b[0mop_uxg\u001b[0m\u001b[1;33m.\u001b[0m\u001b[0mstep\u001b[0m\u001b[1;33m(\u001b[0m\u001b[1;33m)\u001b[0m\u001b[1;33m\u001b[0m\u001b[1;33m\u001b[0m\u001b[0m\n\u001b[0;32m     42\u001b[0m             \u001b[0mprint\u001b[0m\u001b[1;33m(\u001b[0m\u001b[0mgenerator\u001b[0m\u001b[1;33m.\u001b[0m\u001b[0mp\u001b[0m\u001b[1;33m[\u001b[0m\u001b[1;36m10\u001b[0m\u001b[1;33m,\u001b[0m\u001b[1;36m0\u001b[0m\u001b[1;33m,\u001b[0m\u001b[1;33m:\u001b[0m\u001b[1;33m]\u001b[0m\u001b[1;33m)\u001b[0m\u001b[1;33m\u001b[0m\u001b[1;33m\u001b[0m\u001b[0m\n\u001b[1;32m---> 43\u001b[1;33m             \u001b[0md\u001b[0m\u001b[1;33m(\u001b[0m\u001b[1;33m)\u001b[0m\u001b[1;33m\u001b[0m\u001b[1;33m\u001b[0m\u001b[0m\n\u001b[0m\u001b[0;32m     44\u001b[0m             \u001b[0mlosses\u001b[0m\u001b[1;33m.\u001b[0m\u001b[0mappend\u001b[0m\u001b[1;33m(\u001b[0m\u001b[0mloss\u001b[0m\u001b[1;33m.\u001b[0m\u001b[0mitem\u001b[0m\u001b[1;33m(\u001b[0m\u001b[1;33m)\u001b[0m\u001b[1;33m)\u001b[0m\u001b[1;33m\u001b[0m\u001b[1;33m\u001b[0m\u001b[0m\n\u001b[0;32m     45\u001b[0m     \u001b[1;32mreturn\u001b[0m \u001b[0mnp\u001b[0m\u001b[1;33m.\u001b[0m\u001b[0mmean\u001b[0m\u001b[1;33m(\u001b[0m\u001b[0mlosses\u001b[0m\u001b[1;33m)\u001b[0m\u001b[1;33m\u001b[0m\u001b[1;33m\u001b[0m\u001b[0m\n",
      "\u001b[1;31mNameError\u001b[0m: name 'd' is not defined"
     ]
    }
   ],
   "source": [
    "areas = []\n",
    "losses = []\n",
    "for i in tqdm(range(10)):\n",
    "    loss = train_dyn_gen()\n",
    "    losses.append(loss)\n",
    "    # check auc\n",
    "    p0 = generator.generate_adj().detach().numpy()\n",
    "    area = auc_unknown(p0,object_matrix,del_num)\n",
    "    areas.append(area)"
   ]
  },
  {
   "cell_type": "code",
   "execution_count": null,
   "metadata": {},
   "outputs": [],
   "source": []
  },
  {
   "cell_type": "code",
   "execution_count": 54,
   "metadata": {},
   "outputs": [
    {
     "data": {
      "image/png": "[encoded data removed]",
      "text/plain": [
       "<Figure size 432x288 with 1 Axes>"
      ]
     },
     "metadata": {
      "needs_background": "light"
     },
     "output_type": "display_data"
    }
   ],
   "source": [
    "plt.plot(areas)\n",
    "plt.show()"
   ]
  },
  {
   "cell_type": "code",
   "execution_count": null,
   "metadata": {},
   "outputs": [],
   "source": []
  }
 ],
 "metadata": {
  "kernelspec": {
   "display_name": "Python 3",
   "language": "python",
   "name": "python3"
  },
  "language_info": {
   "codemirror_mode": {
    "name": "ipython",
    "version": 3
   },
   "file_extension": ".py",
   "mimetype": "text/x-python",
   "name": "python",
   "nbconvert_exporter": "python",
   "pygments_lexer": "ipython3",
   "version": "3.6.12"
  }
 },
 "nbformat": 4,
 "nbformat_minor": 4
}
