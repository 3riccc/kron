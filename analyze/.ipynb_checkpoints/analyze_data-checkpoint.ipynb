{
 "cells": [
  {
   "cell_type": "code",
   "execution_count": 1,
   "metadata": {},
   "outputs": [],
   "source": [
    "import torch\n",
    "import torch.nn as nn\n",
    "from torch.utils.data import DataLoader\n",
    "from torch.nn import Parameter\n",
    "import torch.optim as optim\n",
    "import torch.nn.functional as F\n",
    "\n",
    "import matplotlib.pyplot as plt\n",
    "import pickle\n",
    "import numpy as np\n",
    "import sys\n",
    "sys.path.append('..')\n",
    "import math # to check nan\n",
    "from tqdm import tqdm\n",
    "from sklearn import metrics"
   ]
  },
  {
   "cell_type": "code",
   "execution_count": 2,
   "metadata": {},
   "outputs": [],
   "source": [
    "def load_cml_ggn(data_path,batch_size = 128,node=10,seed=2050):\n",
    "\n",
    "    with open(data_path, 'rb') as f:\n",
    "        object_matrix, train_data, val_data, test_data = pickle.load(f) # (samples, nodes, timesteps, 1)\n",
    "    \n",
    "    print('\\nMatrix dimension: %s \\nTrain data size: %s \\nVal data size: %s \\nTest data size: %s'\n",
    "          % (object_matrix.shape, train_data.shape, val_data.shape, test_data.shape))    \n",
    "\n",
    "    train_loader = DataLoader(train_data[:], batch_size=batch_size, shuffle=False)#\n",
    "    val_loader = DataLoader(val_data[:], batch_size=batch_size, shuffle=False) # 记得改回来\n",
    "    test_loader = DataLoader(test_data[:], batch_size=batch_size, shuffle=False) # 记得改回来\n",
    "    return train_loader,val_loader,test_loader,object_matrix"
   ]
  },
  {
   "cell_type": "code",
   "execution_count": 3,
   "metadata": {},
   "outputs": [
    {
     "name": "stdout",
     "output_type": "stream",
     "text": [
      "\n",
      "Matrix dimension: torch.Size([128, 128]) \n",
      "Train data size: torch.Size([2500, 128, 2, 1]) \n",
      "Val data size: torch.Size([500, 128, 2, 1]) \n",
      "Test data size: torch.Size([500, 128, 2, 1])\n"
     ]
    }
   ],
   "source": [
    "# load data\n",
    "data_path = '../data/2000cmlkron-ws128-10000.pickle'\n",
    "# a = torch.load(data_path,map_location=torch.device('cpu'))\n",
    "train_loader, val_loader, test_loader, object_matrix = load_cml_ggn(data_path,batch_size=1024,node=128)"
   ]
  },
  {
   "cell_type": "code",
   "execution_count": 4,
   "metadata": {},
   "outputs": [
    {
     "ename": "NameError",
     "evalue": "name 'cax' is not defined",
     "output_type": "error",
     "traceback": [
      "\u001b[1;31m---------------------------------------------------------------------------\u001b[0m",
      "\u001b[1;31mNameError\u001b[0m                                 Traceback (most recent call last)",
      "\u001b[1;32m<ipython-input-4-ccf5c2105d40>\u001b[0m in \u001b[0;36m<module>\u001b[1;34m\u001b[0m\n\u001b[0;32m      5\u001b[0m \u001b[1;31m# 向右，向上，宽度，高度，会互相影响\u001b[0m\u001b[1;33m\u001b[0m\u001b[1;33m\u001b[0m\u001b[1;33m\u001b[0m\u001b[0m\n\u001b[0;32m      6\u001b[0m \u001b[1;31m# cax = plt.axes([0.85, 0.12, 0.025, 0.775])\u001b[0m\u001b[1;33m\u001b[0m\u001b[1;33m\u001b[0m\u001b[1;33m\u001b[0m\u001b[0m\n\u001b[1;32m----> 7\u001b[1;33m \u001b[0mplt\u001b[0m\u001b[1;33m.\u001b[0m\u001b[0mcolorbar\u001b[0m\u001b[1;33m(\u001b[0m\u001b[0mcax\u001b[0m\u001b[1;33m=\u001b[0m\u001b[0mcax\u001b[0m\u001b[1;33m)\u001b[0m\u001b[1;33m\u001b[0m\u001b[1;33m\u001b[0m\u001b[0m\n\u001b[0m",
      "\u001b[1;31mNameError\u001b[0m: name 'cax' is not defined"
     ]
    },
    {
     "data": {
      "image/png": "[encoded data removed]",
      "text/plain": [
       "<Figure size 720x720 with 1 Axes>"
      ]
     },
     "metadata": {
      "needs_background": "light"
     },
     "output_type": "display_data"
    }
   ],
   "source": [
    "plt.figure(figsize=(10,10))\n",
    "plt.imshow(object_matrix, cmap=plt.cm.BuPu_r)\n",
    "plt.title('groundtruth adj')\n",
    "# plt.subplots_adjust(bottom=0.1, right=0.8, top=0.9)\n",
    "# 向右，向上，宽度，高度，会互相影响\n",
    "# cax = plt.axes([0.85, 0.12, 0.025, 0.775])\n",
    "plt.colorbar(cax=cax)"
   ]
  },
  {
   "cell_type": "code",
   "execution_count": 7,
   "metadata": {},
   "outputs": [
    {
     "data": {
      "text/plain": [
       "tensor([48., 25., 23., 18., 25., 16., 15.,  7., 19., 17., 14., 11., 13., 15.,\n",
       "        11.,  8., 21., 16., 20.,  7., 19.,  5.,  8.,  7., 18., 14.,  7.,  6.,\n",
       "        10.,  5.,  8.,  3., 29., 21., 11.,  9., 18.,  8.,  5., 10., 14., 10.,\n",
       "        10., 10., 11., 10.,  7.,  5., 19.,  7.,  9.,  5., 12.,  7., 10.,  3.,\n",
       "         9.,  4.,  3.,  7.,  9.,  3.,  5.,  4., 25., 14., 14.,  8., 15., 16.,\n",
       "         9.,  4., 14., 12., 12., 10.,  9.,  4., 10.,  5., 10., 11.,  1.,  9.,\n",
       "        12.,  9., 13.,  5.,  8.,  7.,  9.,  7.,  8.,  5.,  5.,  5., 23., 15.,\n",
       "        14.,  7., 12.,  7.,  8.,  3.,  9.,  7., 10.,  7.,  9.,  6.,  2.,  4.,\n",
       "         7.,  9.,  9.,  4.,  3.,  6.,  3.,  4.,  7.,  4.,  5.,  3.,  4.,  5.,\n",
       "         2.,  2.])"
      ]
     },
     "execution_count": 7,
     "metadata": {},
     "output_type": "execute_result"
    }
   ],
   "source": [
    "torch.sum(object_matrix,dim=0)"
   ]
  },
  {
   "cell_type": "code",
   "execution_count": null,
   "metadata": {},
   "outputs": [],
   "source": []
  }
 ],
 "metadata": {
  "kernelspec": {
   "display_name": "Python 3",
   "language": "python",
   "name": "python3"
  },
  "language_info": {
   "codemirror_mode": {
    "name": "ipython",
    "version": 3
   },
   "file_extension": ".py",
   "mimetype": "text/x-python",
   "name": "python",
   "nbconvert_exporter": "python",
   "pygments_lexer": "ipython3",
   "version": "3.6.12"
  }
 },
 "nbformat": 4,
 "nbformat_minor": 4
}
